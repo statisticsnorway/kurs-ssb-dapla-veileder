{
 "cells": [
  {
   "cell_type": "markdown",
   "metadata": {},
   "source": [
    "### Lese inn og skrive dataframes i R"
   ]
  },
  {
   "cell_type": "markdown",
   "metadata": {},
   "source": [
    "#### Dapla har laget 2 funksjoner for dette formålet:\n",
    "\n",
    "* spark.read.path\n",
    "* spark.write.path\n",
    "\n",
    "Funksjonene håndterer automatisk kommunikasjonen mot tjenestene i Dapla. Disse må kjøres i __SparkR__ kernel."
   ]
  },
  {
   "cell_type": "markdown",
   "metadata": {},
   "source": [
    "#### Eksempel: Skrive en dataframe til fellesområdet:"
   ]
  },
  {
   "cell_type": "markdown",
   "metadata": {},
   "source": [
    "##### Oppretter en R dataframe"
   ]
  },
  {
   "cell_type": "code",
   "execution_count": null,
   "metadata": {},
   "outputs": [],
   "source": [
    "employee <- c('John Doe','Peter Gynn','Jolie Hope')\n",
    "salary <- c(21000, 23400, 26800)\n",
    "startdate <- as.Date(c('2010-11-1','2008-3-25','2007-3-14'))\n",
    "employ.data <- data.frame(employee, salary, startdate)"
   ]
  },
  {
   "cell_type": "markdown",
   "metadata": {},
   "source": [
    "##### Skriver R dataframe til fellesområdet:"
   ]
  },
  {
   "cell_type": "code",
   "execution_count": null,
   "metadata": {},
   "outputs": [],
   "source": [
    "# Create the SparkDataFrame\n",
    "spark_df <- as.DataFrame(employ.data)\n",
    "\n",
    "spark.write.path(spark_df, \"/felles/veiledning/r/eksempler/ansatte\", valuation = \"INTERNAL\", state = \"INPUT\")"
   ]
  },
  {
   "cell_type": "markdown",
   "metadata": {},
   "source": [
    "##### Lese ut data igjen fra fellesområdet:"
   ]
  },
  {
   "cell_type": "code",
   "execution_count": null,
   "metadata": {},
   "outputs": [],
   "source": [
    "df <- spark.read.path(\"/felles/veiledning/r/eksempler/ansatte\")\n",
    "head(df)"
   ]
  },
  {
   "cell_type": "markdown",
   "metadata": {},
   "source": [
    "##### Liste ut filstier fra fellesområdet:"
   ]
  },
  {
   "cell_type": "code",
   "execution_count": null,
   "metadata": {},
   "outputs": [],
   "source": [
    "liste <- spark.read.path(\"/felles/veiledning/r/*\")\n",
    "head(liste)"
   ]
  },
  {
   "cell_type": "markdown",
   "metadata": {},
   "source": [
    "#### Eksempel: Lese inn eksempeldata fra fellesområdet:"
   ]
  },
  {
   "cell_type": "code",
   "execution_count": null,
   "metadata": {},
   "outputs": [],
   "source": [
    "df_areal <- spark.read.path(\"/felles/veiledning/pyspark/eksempler/areal\")"
   ]
  },
  {
   "cell_type": "markdown",
   "metadata": {},
   "source": [
    "##### Datasettes skjema viser oss:\n",
    "* kolonnenes/variablenes navn\n",
    "* kolonne-/variabeltype"
   ]
  },
  {
   "cell_type": "code",
   "execution_count": null,
   "metadata": {},
   "outputs": [],
   "source": [
    "printSchema(df_areal)"
   ]
  },
  {
   "cell_type": "markdown",
   "metadata": {},
   "source": [
    "##### count() for å finne antall rader:"
   ]
  },
  {
   "cell_type": "code",
   "execution_count": null,
   "metadata": {},
   "outputs": [],
   "source": [
    "count(df_areal)"
   ]
  },
  {
   "cell_type": "markdown",
   "metadata": {},
   "source": [
    "##### Viser de første 5 radene i datasettet ved å bruke head()"
   ]
  },
  {
   "cell_type": "code",
   "execution_count": null,
   "metadata": {},
   "outputs": [],
   "source": [
    "head(df_areal, 5)"
   ]
  },
  {
   "cell_type": "markdown",
   "metadata": {},
   "source": [
    "##### Coerce spark dataframen inn i en base-R dataframe.\n",
    "Dette kan forårsake noen problemer, om det ikke er ren data i kolonnene feks\\\n",
    "Men kan være nødvendig for mange av funksjonene i R."
   ]
  },
  {
   "cell_type": "code",
   "execution_count": null,
   "metadata": {},
   "outputs": [],
   "source": [
    "df_areals <- as.data.frame(df_areal)"
   ]
  },
  {
   "cell_type": "code",
   "execution_count": null,
   "metadata": {},
   "outputs": [],
   "source": [
    "suppressMessages(library(tidyverse))"
   ]
  },
  {
   "cell_type": "code",
   "execution_count": null,
   "metadata": {},
   "outputs": [],
   "source": [
    "glimpse(df_areals)"
   ]
  },
  {
   "cell_type": "code",
   "execution_count": null,
   "metadata": {},
   "outputs": [],
   "source": [
    "names(df_areals)"
   ]
  },
  {
   "cell_type": "code",
   "execution_count": null,
   "metadata": {},
   "outputs": [],
   "source": [
    "summary(df_areals)"
   ]
  },
  {
   "cell_type": "markdown",
   "metadata": {},
   "source": [
    "##### Coerce dataframen tilbake inn i en spark dataframe og lagre til dapla"
   ]
  },
  {
   "cell_type": "code",
   "execution_count": null,
   "metadata": {},
   "outputs": [],
   "source": [
    "spark_df_areal <- as.DataFrame(df_areals)\n",
    "typeof(spark_df_areal)"
   ]
  },
  {
   "cell_type": "code",
   "execution_count": null,
   "metadata": {},
   "outputs": [],
   "source": [
    "# Skriv dataframe tilbake til lagring (bør være en spark dataframe)\n",
    "spark.write.path(spark_df_areal, \"/felles/veiledning/r/eksempler/areal/tilbakeskriv\", valuation = \"INTERNAL\", state = \"INPUT\")"
   ]
  }
 ],
 "metadata": {
  "kernelspec": {
   "display_name": "SparkR",
   "language": "R",
   "name": "ir"
  },
  "language_info": {
   "codemirror_mode": "r",
   "file_extension": ".r",
   "mimetype": "text/x-r-source",
   "name": "R",
   "pygments_lexer": "r",
   "version": "4.0.3"
  }
 },
 "nbformat": 4,
 "nbformat_minor": 4
}
