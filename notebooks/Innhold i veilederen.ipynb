{
 "cells": [
  {
   "cell_type": "code",
   "execution_count": null,
   "metadata": {
    "jupyter": {
     "outputs_hidden": true,
     "source_hidden": true
    }
   },
   "outputs": [],
   "source": [
    "%%html\n",
    "<script>\n",
    "    // AUTORUN ALL CELLS ON NOTEBOOK-LOAD!\n",
    "    require(\n",
    "        ['base/js/namespace', 'jquery'], \n",
    "        function(jupyter, $) {\n",
    "            $(jupyter.events).on(\"kernel_ready.Kernel\", function () {\n",
    "                console.log(\"Auto-running all cells-below...\");\n",
    "                jupyter.actions.call('jupyter-notebook:run-all-cells-below');\n",
    "                jupyter.actions.call('jupyter-notebook:save-notebook');\n",
    "            });\n",
    "        }\n",
    "    );\n",
    "</script>"
   ]
  },
  {
   "cell_type": "code",
   "execution_count": null,
   "metadata": {
    "jupyter": {
     "source_hidden": true
    }
   },
   "outputs": [],
   "source": [
    "%run search.py"
   ]
  },
  {
   "cell_type": "markdown",
   "metadata": {},
   "source": [
    "### Innhold i veilederen\n",
    "Hvis du er helt ny bruker av jupyter og lurer på hvordan navigere, opprette notes, kjøre notes, fjerne resultater (output) og editere, så ta gjerne en titt [her](Introduksjon%20til%20Dapla,%20JupyterLab%20og%20GitHub/Navigering.ipynb).\n",
    "##### [Introduksjon til Dapla, JupyterLab og GitHub](Introduksjon%20til%20Dapla,%20JupyterLab%20og%20GitHub/Introduksjon%20til%20Dapla,%20JupyterLab%20og%20GitHub.ipynb)\n",
    "Introduksjon til verktøy og språk for å bygge og produsere klargjørings- og analysedelen av statistikkløpet.\n",
    "##### [Finne, se og lagre data på Dapla](Finne,%20se%20og%20lagre%20data%20p%C3%A5%20Dapla/Finne,%20se%20og%20lagre%20data%20p%C3%A5%20Dapla.ipynb)\n",
    "Dapla tilbyr funksjonalitet både for søk og utforsking for å finne data på plattformen. Her er det også introduksjon til hvordan se og operere på dataene via [Pandas DataFrame](Finne,%20se%20og%20lagre%20data%20p%C3%A5%20Dapla/Intro%20til%20Pandas%20DataFrame.ipynb), [PySpark DataFrame](Finne,%20se%20og%20lagre%20data%20p%C3%A5%20Dapla/Intro%20til%20Pyspark.sql.Dataframe.ipynb) og [SparkR DataFrame](Finne,%20se%20og%20lagre%20data%20p%C3%A5%20Dapla/Lese%20inn%20og%20skrive%20dataframes%20i%20R.ipynb). Finnes det en parallell til PROC CONTENTS i SAS?\n",
    "##### [Funksjoner i klargjøring](Funksjoner%20i%20klargjøring/Funksjoner%20i%20klargjøring.ipynb)\n",
    "Eksempler på funksjoner for å etablere klargjøringsgrunnlag ved bruk av Pyspark; hvordan koble datasett, håndtere dubletter, gjøre en logisk imputering, pivotere, sette sammen datasett og noen enkle beregninger.\n",
    "##### [Fellesfunksjoner (SSB Spark tools)](Fellesfunksjoner%20(SSB%20Spark%20tools)/Fellesfunksjoner%20(SSB%20Spark%20tools).ipynb)\n",
    "I biblioteket SSB Spark tools finnes det PySpark-funksjoner som er laget til bruk i statistikkproduksjonen på SSB. Her vises det hvordan man kan se hvilke funksjoner som ligger i SSB Spark tools og et eksempel på hvordan disse funksjonene kan brukes. \n",
    "##### [Installere andre Python pakker](https://github.com/statisticsnorway/dapla-project/blob/master/doc/jupyter-dependency-management.md)\n",
    "Noen ganger vil man installere andre Python biblioteker/pakker en de som er installert fra før, eller bruke en eldre/nyere versjon av en gitt pakke. I Jupyterlab kan du bruke forskjellige pakker for hvert prosjekt, ved å bruke kommandolinjeverktøy. \n",
    "##### [Metadata og kodelister](Metadata%20og%20kodelister/Metadata%20og%20kodelister.ipynb)\n",
    "Metadata og kodelister er viktig for statistikkproduksjonen. Her får du blant annet eksempler på hvordan du kan laste inn og sjekke kodelister fra KLASS.\n",
    "##### [Statistikkproduksjon](Statistikkproduksjon/mod_statistikkproduksjon.ipynb)\n",
    "Hjelp til organisering av statistikkproduksjonen i prosessene Samle inn, Etablere klargjøringsgrunnlag, Klargjøringsanalyse, Etablere analysegrunnlag og Statistikkanalyse (som følger av SSBs prosessbeskrivelser for modernisering av klargjøring og analyse).\n",
    "##### [Oppgaver og løsningsforslag](Oppgaver%20og%20løsningsforslag/Oppgaver%20og%20løsningsforslag.ipynb)\n",
    "Det er lettere å lære når du prøve selv!\n"
   ]
  }
 ],
 "metadata": {
  "kernelspec": {
   "display_name": "Python 3",
   "language": "python",
   "name": "python3"
  },
  "language_info": {
   "codemirror_mode": {
    "name": "ipython",
    "version": 3
   },
   "file_extension": ".py",
   "mimetype": "text/x-python",
   "name": "python",
   "nbconvert_exporter": "python",
   "pygments_lexer": "ipython3",
   "version": "3.8.6"
  }
 },
 "nbformat": 4,
 "nbformat_minor": 4
}
